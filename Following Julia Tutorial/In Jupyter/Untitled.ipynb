{
 "cells": [
  {
   "cell_type": "code",
   "execution_count": null,
   "id": "19bb231f-8ade-4de8-9869-471ea0a20de1",
   "metadata": {},
   "outputs": [
    {
     "data": {
      "text/plain": [
       "8-element Vector{Int64}:\n",
       " 10\n",
       " 11\n",
       " 12\n",
       " 13\n",
       " 14\n",
       " 15\n",
       " 16\n",
       " 17"
      ]
     },
     "execution_count": 3,
     "metadata": {},
     "output_type": "execute_result"
    }
   ],
   "source": [
    "Σ, σ, Ε, ϵ, γ, Γ, β, Β, = [10, 11, 12, 13, 14, 15, 16, 17]\n"
   ]
  },
  {
   "cell_type": "code",
   "execution_count": 4,
   "id": "f9db9d6d-b35f-4486-9895-6f8e1d83a441",
   "metadata": {},
   "outputs": [
    {
     "name": "stdout",
     "output_type": "stream",
     "text": [
      "28"
     ]
    }
   ],
   "source": [
    "print(σ+Β)"
   ]
  }
 ],
 "metadata": {
  "kernelspec": {
   "display_name": "Julia 1.6.7",
   "language": "julia",
   "name": "julia-1.6"
  },
  "language_info": {
   "file_extension": ".jl",
   "mimetype": "application/julia",
   "name": "julia",
   "version": "1.6.7"
  }
 },
 "nbformat": 4,
 "nbformat_minor": 5
}
